{
  "nbformat": 4,
  "nbformat_minor": 0,
  "metadata": {
    "colab": {
      "name": "Dog Breed Classifier",
      "version": "0.3.2",
      "provenance": [],
      "include_colab_link": true
    },
    "kernelspec": {
      "name": "python3",
      "display_name": "Python 3"
    },
    "accelerator": "GPU"
  },
  "cells": [
    {
      "cell_type": "markdown",
      "metadata": {
        "id": "view-in-github",
        "colab_type": "text"
      },
      "source": [
        "[View in Colaboratory](https://colab.research.google.com/github/avs20/MSIT_ML_CLASS/blob/master/Dog_Breed_Classifier.ipynb)"
      ]
    },
    {
      "metadata": {
        "id": "1rsjkU7nh3sR",
        "colab_type": "text"
      },
      "cell_type": "markdown",
      "source": [
        "### Things to install \n",
        "\n",
        "1. OpenCV\n",
        "2. Face Detector Model for opencv\n",
        "2. Download Dataset to google drive \n"
      ]
    },
    {
      "metadata": {
        "id": "bGSiF89XkVBy",
        "colab_type": "code",
        "colab": {}
      },
      "cell_type": "code",
      "source": [
        "!ls"
      ],
      "execution_count": 0,
      "outputs": []
    },
    {
      "metadata": {
        "id": "PpJFrJYfiCjc",
        "colab_type": "code",
        "colab": {}
      },
      "cell_type": "code",
      "source": [
        "#install opencv \n",
        "!apt-get -qq install -y libsm6 libxext6 && pip install -q -U opencv-python\n",
        "import cv2"
      ],
      "execution_count": 0,
      "outputs": []
    },
    {
      "metadata": {
        "id": "UJab9rYOiNzt",
        "colab_type": "code",
        "colab": {
          "base_uri": "https://localhost:8080/",
          "height": 204
        },
        "outputId": "4d9516b1-b7cd-4298-c289-67c1c08db628"
      },
      "cell_type": "code",
      "source": [
        "!wget https://raw.githubusercontent.com/udacity/dog-project/master/haarcascades/haarcascade_frontalface_alt.xml\n"
      ],
      "execution_count": 3,
      "outputs": [
        {
          "output_type": "stream",
          "text": [
            "--2018-08-19 04:56:44--  https://raw.githubusercontent.com/udacity/dog-project/master/haarcascades/haarcascade_frontalface_alt.xml\r\n",
            "Resolving raw.githubusercontent.com (raw.githubusercontent.com)... 151.101.0.133, 151.101.64.133, 151.101.128.133, ...\n",
            "Connecting to raw.githubusercontent.com (raw.githubusercontent.com)|151.101.0.133|:443... connected.\n",
            "HTTP request sent, awaiting response... 200 OK\n",
            "Length: 676709 (661K) [text/plain]\n",
            "Saving to: ‘haarcascade_frontalface_alt.xml’\n",
            "\n",
            "haarcascade_frontal 100%[===================>] 660.85K  --.-KB/s    in 0.03s   \n",
            "\n",
            "2018-08-19 04:56:44 (22.7 MB/s) - ‘haarcascade_frontalface_alt.xml’ saved [676709/676709]\n",
            "\n"
          ],
          "name": "stdout"
        }
      ]
    },
    {
      "metadata": {
        "id": "kPZlq-Reit4l",
        "colab_type": "code",
        "colab": {
          "base_uri": "https://localhost:8080/",
          "height": 204
        },
        "outputId": "7d6ba626-f9ce-4b89-ae5c-f730bbbd4d3a"
      },
      "cell_type": "code",
      "source": [
        "!wget https://s3-us-west-1.amazonaws.com/udacity-aind/dog-project/lfw.zip"
      ],
      "execution_count": 5,
      "outputs": [
        {
          "output_type": "stream",
          "text": [
            "--2018-08-19 04:58:30--  https://s3-us-west-1.amazonaws.com/udacity-aind/dog-project/lfw.zip\n",
            "Resolving s3-us-west-1.amazonaws.com (s3-us-west-1.amazonaws.com)... 54.231.237.41\n",
            "Connecting to s3-us-west-1.amazonaws.com (s3-us-west-1.amazonaws.com)|54.231.237.41|:443... connected.\n",
            "HTTP request sent, awaiting response... 200 OK\n",
            "Length: 196739509 (188M) [application/zip]\n",
            "Saving to: ‘lfw.zip’\n",
            "\n",
            "lfw.zip             100%[===================>] 187.62M  17.9MB/s    in 19s     \n",
            "\n",
            "2018-08-19 04:58:50 (9.74 MB/s) - ‘lfw.zip’ saved [196739509/196739509]\n",
            "\n"
          ],
          "name": "stdout"
        }
      ]
    },
    {
      "metadata": {
        "id": "JYi6QmzBjDaF",
        "colab_type": "code",
        "colab": {
          "base_uri": "https://localhost:8080/",
          "height": 34
        },
        "outputId": "74535ea0-a93c-4084-9f8c-25c0e813fbd8"
      },
      "cell_type": "code",
      "source": [
        "!ls"
      ],
      "execution_count": 6,
      "outputs": [
        {
          "output_type": "stream",
          "text": [
            "datalab  haarcascade_frontalface_alt.xml  lfw.zip  sample_data\r\n"
          ],
          "name": "stdout"
        }
      ]
    },
    {
      "metadata": {
        "id": "S0SeLGfLjdS0",
        "colab_type": "code",
        "colab": {}
      },
      "cell_type": "code",
      "source": [
        "!unzip lfw.zip"
      ],
      "execution_count": 0,
      "outputs": []
    },
    {
      "metadata": {
        "id": "RMx7YKRLkGe8",
        "colab_type": "code",
        "colab": {}
      },
      "cell_type": "code",
      "source": [
        ""
      ],
      "execution_count": 0,
      "outputs": []
    }
  ]
}